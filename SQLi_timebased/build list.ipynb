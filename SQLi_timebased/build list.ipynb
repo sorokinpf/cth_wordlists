{
 "cells": [
  {
   "cell_type": "code",
   "execution_count": 1,
   "metadata": {},
   "outputs": [],
   "source": [
    "from yaml import load, dump\n",
    "try:\n",
    "    from yaml import CLoader as Loader, CDumper as Dumper\n",
    "except ImportError:\n",
    "    from yaml import Loader, Dumper\n",
    "import re\n",
    "import itertools"
   ]
  },
  {
   "cell_type": "code",
   "execution_count": 2,
   "metadata": {},
   "outputs": [],
   "source": [
    "all_data = load(open('vectors.yml').read(),Loader=Loader)"
   ]
  },
  {
   "cell_type": "code",
   "execution_count": 3,
   "metadata": {},
   "outputs": [],
   "source": [
    "def parse(val_name,schema):\n",
    "    vals = schema[val_name]\n",
    "    result = []\n",
    "    for v in vals:\n",
    "        sub_vals = re.findall('%([^;]+);',v)\n",
    "        if len(sub_vals)==0:\n",
    "            result.append(v)\n",
    "            continue\n",
    "        sub_arrays = []\n",
    "        for sub_val in sub_vals:\n",
    "            sub_arrays.append(parse(sub_val,schema))\n",
    "\n",
    "        possible_values = itertools.product(*sub_arrays)\n",
    "        for x in possible_values:\n",
    "            generating_v = v\n",
    "            for sub_val_name,sub_val_value in zip(sub_vals,x):\n",
    "                generating_v = generating_v.replace('%%%s;'%sub_val_name,sub_val_value)\n",
    "            result.append(generating_v)\n",
    "    return result"
   ]
  },
  {
   "cell_type": "code",
   "execution_count": 4,
   "metadata": {
    "scrolled": true
   },
   "outputs": [],
   "source": [
    "all_vectors = parse('all_vectors',all_data)\n",
    "all_data['oracle_select'] = []\n",
    "without_oracle = parse('all_vectors',all_data)"
   ]
  },
  {
   "cell_type": "code",
   "execution_count": 5,
   "metadata": {},
   "outputs": [],
   "source": [
    "def save(filename,vectors):\n",
    "    res_file = open(filename,'wb')\n",
    "    res_file.write(('\\n'.join(vectors)).encode('ascii'))\n",
    "    res_file.close()"
   ]
  },
  {
   "cell_type": "code",
   "execution_count": 8,
   "metadata": {},
   "outputs": [],
   "source": [
    "save('time_vectors.txt',all_vectors)\n",
    "save('time_vectors_without_oracle.txt',without_oracle)"
   ]
  }
 ],
 "metadata": {
  "kernelspec": {
   "display_name": "Python 3",
   "language": "python",
   "name": "python3"
  },
  "language_info": {
   "codemirror_mode": {
    "name": "ipython",
    "version": 3
   },
   "file_extension": ".py",
   "mimetype": "text/x-python",
   "name": "python",
   "nbconvert_exporter": "python",
   "pygments_lexer": "ipython3",
   "version": "3.7.4"
  }
 },
 "nbformat": 4,
 "nbformat_minor": 2
}
